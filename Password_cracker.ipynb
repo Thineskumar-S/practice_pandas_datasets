{
  "nbformat": 4,
  "nbformat_minor": 0,
  "metadata": {
    "colab": {
      "provenance": [],
      "authorship_tag": "ABX9TyMK/qk+Ac55xDOykmafIsrP",
      "include_colab_link": true
    },
    "kernelspec": {
      "name": "python3",
      "display_name": "Python 3"
    },
    "language_info": {
      "name": "python"
    }
  },
  "cells": [
    {
      "cell_type": "markdown",
      "metadata": {
        "id": "view-in-github",
        "colab_type": "text"
      },
      "source": [
        "<a href=\"https://colab.research.google.com/github/Thineskumar-S/practice_pandas_datasets/blob/main_master/Password_cracker.ipynb\" target=\"_parent\"><img src=\"https://colab.research.google.com/assets/colab-badge.svg\" alt=\"Open In Colab\"/></a>"
      ]
    },
    {
      "cell_type": "code",
      "execution_count": null,
      "metadata": {
        "id": "hUhyq-gzAldT"
      },
      "outputs": [],
      "source": []
    },
    {
      "cell_type": "markdown",
      "source": [
        "# **Password Cracker**\n",
        "\n"
      ],
      "metadata": {
        "id": "ylAqz4XUAoqO"
      }
    },
    {
      "cell_type": "code",
      "source": [
        "\"\"\"\n",
        "1. read the file\n",
        "2.import necessary modules\n",
        "3. create the combination of password\n",
        "4.1 start time\n",
        "4.2 check with the decrpyt object with the combination\n",
        "4.3 end time\n",
        "4.4 get the password in a variable\n",
        "5. check how many attempts have run.\n",
        "6. print the info\n",
        "\"\"\""
      ],
      "metadata": {
        "colab": {
          "base_uri": "https://localhost:8080/",
          "height": 53
        },
        "id": "wFt9u8eqAy7W",
        "outputId": "737604c5-ccd3-4c32-d25c-df259ef80f35"
      },
      "execution_count": null,
      "outputs": [
        {
          "output_type": "execute_result",
          "data": {
            "text/plain": [
              "'\\n1. read the file\\n2.import necessary modules\\n3. create the combination of password\\n4.1 start time\\n4.2 check with the decrpyt object with the combination\\n4.3 end time\\n4.4 get the password in a variable\\n5. check how many attempts have run.\\n6. print the info\\n'"
            ],
            "application/vnd.google.colaboratory.intrinsic+json": {
              "type": "string"
            }
          },
          "metadata": {},
          "execution_count": 7
        }
      ]
    },
    {
      "cell_type": "code",
      "source": [
        "! pip install PyPDF2\n"
      ],
      "metadata": {
        "colab": {
          "base_uri": "https://localhost:8080/"
        },
        "id": "FiDPzAAhCH4M",
        "outputId": "d7ed0810-77b2-4017-df74-00ff58af2af3"
      },
      "execution_count": null,
      "outputs": [
        {
          "output_type": "stream",
          "name": "stdout",
          "text": [
            "Requirement already satisfied: PyPDF2 in /usr/local/lib/python3.10/dist-packages (3.0.1)\n"
          ]
        }
      ]
    },
    {
      "cell_type": "code",
      "source": [
        "from PyPDF2 import PdfReader"
      ],
      "metadata": {
        "id": "1vPf70xpCSi2"
      },
      "execution_count": null,
      "outputs": []
    },
    {
      "cell_type": "code",
      "source": [
        "from itertools import combinations"
      ],
      "metadata": {
        "id": "_OETYoqDGtvZ"
      },
      "execution_count": null,
      "outputs": []
    },
    {
      "cell_type": "code",
      "source": [
        "def apply_pwd(file_path,password):\n",
        "  try:\n",
        "    with open(pdf_path,'rb') as file_pdf:\n",
        "      read_obj=PdfReader(file_pdf)\n",
        "      if reader_obj.decrypt(password) == 1:\n",
        "        print( password)\n",
        "        return True\n",
        "      else:\n",
        "        return False\n",
        "\n",
        "  except PyPDF2.PdfReadError:\n",
        "    return False\n"
      ],
      "metadata": {
        "id": "-RjbYp_nEFVa"
      },
      "execution_count": null,
      "outputs": []
    },
    {
      "cell_type": "code",
      "source": [
        "\n",
        "#combination code\n",
        "\n",
        "sequence = [j for i in range(6) for j in range(10)]\n",
        "combination=combinations(sequence,r=6)\n",
        "\n",
        "temp_possibilities=[]\n",
        "for i in combination:\n",
        "  temp_possibilities.append(i)\n"
      ],
      "metadata": {
        "id": "QlB3h5lQk5iV"
      },
      "execution_count": null,
      "outputs": []
    },
    {
      "cell_type": "code",
      "source": [
        "\n",
        "possibilities=[]\n",
        "\n",
        "for j in temp_possibilities:\n",
        "  result = int(''.join(map(str, j)))\n",
        "  possibilities.append(result)\n",
        "\n"
      ],
      "metadata": {
        "id": "Y04y0cmrkKhl"
      },
      "execution_count": null,
      "outputs": []
    },
    {
      "cell_type": "code",
      "source": [
        "\n",
        "pdf_path = '/content/match.pdf'\n",
        "\n",
        "for password in possibilities:\n",
        "    if apply_pwd(pdf_path, password):\n",
        "        print(f\"PDF opened successfully with password: {password}\")\n",
        "        break"
      ],
      "metadata": {
        "id": "MXAnOUgWkOt9"
      },
      "execution_count": null,
      "outputs": []
    },
    {
      "cell_type": "code",
      "source": [
        "dir(PyPdf2)"
      ],
      "metadata": {
        "colab": {
          "base_uri": "https://localhost:8080/",
          "height": 175
        },
        "id": "rzI4HycRk_VD",
        "outputId": "09d25946-74b0-4674-e2ff-0d86cbecbcc1"
      },
      "execution_count": null,
      "outputs": [
        {
          "output_type": "error",
          "ename": "NameError",
          "evalue": "ignored",
          "traceback": [
            "\u001b[0;31m---------------------------------------------------------------------------\u001b[0m",
            "\u001b[0;31mNameError\u001b[0m                                 Traceback (most recent call last)",
            "\u001b[0;32m<ipython-input-42-da3c4c3fec66>\u001b[0m in \u001b[0;36m<cell line: 1>\u001b[0;34m()\u001b[0m\n\u001b[0;32m----> 1\u001b[0;31m \u001b[0mdir\u001b[0m\u001b[0;34m(\u001b[0m\u001b[0mPyPdf2\u001b[0m\u001b[0;34m)\u001b[0m\u001b[0;34m\u001b[0m\u001b[0;34m\u001b[0m\u001b[0m\n\u001b[0m",
            "\u001b[0;31mNameError\u001b[0m: name 'PyPdf2' is not defined"
          ]
        }
      ]
    },
    {
      "cell_type": "code",
      "source": [
        "import pickle"
      ],
      "metadata": {
        "id": "trwAalOFrUww"
      },
      "execution_count": null,
      "outputs": []
    },
    {
      "cell_type": "code",
      "source": [
        "possibilities_serialized_obj = pickle.dumps(possibilities)\n",
        "\n",
        "# Save the serialized object to a file.\n",
        "with open(\"serialized_obj.pkl\", \"wb\") as f:\n",
        "    f.write(possibilities_serialized_obj)\n"
      ],
      "metadata": {
        "id": "v7PKgpX6rtuL"
      },
      "execution_count": null,
      "outputs": []
    },
    {
      "cell_type": "code",
      "source": [
        "import sys"
      ],
      "metadata": {
        "id": "PTGI4IFNsfxG"
      },
      "execution_count": null,
      "outputs": []
    },
    {
      "cell_type": "code",
      "source": [
        "memsize=sys.getsizeof(possibilities)"
      ],
      "metadata": {
        "id": "a-BCO0BAt_RH"
      },
      "execution_count": null,
      "outputs": []
    },
    {
      "cell_type": "code",
      "source": [
        "memsize"
      ],
      "metadata": {
        "colab": {
          "base_uri": "https://localhost:8080/"
        },
        "id": "9gf1xt9guJYG",
        "outputId": "d77e05d8-4a5b-4d4a-887c-88df937534c0"
      },
      "execution_count": null,
      "outputs": [
        {
          "output_type": "execute_result",
          "data": {
            "text/plain": [
              "411943896"
            ]
          },
          "metadata": {},
          "execution_count": 47
        }
      ]
    },
    {
      "cell_type": "code",
      "source": [],
      "metadata": {
        "id": "XcReMWejyV3w"
      },
      "execution_count": null,
      "outputs": []
    },
    {
      "cell_type": "code",
      "source": [
        "def human_readable_size(size):\n",
        "    for unit in [\"B\", \"KiB\", \"MiB\", \"GiB\", \"TiB\", \"PiB\", \"EiB\", \"ZiB\", \"YiB\"]:\n",
        "        if size < 1024.0:\n",
        "            return \"%3.1f%s\" % (size, unit)\n",
        "        size /= 1024.0\n",
        "    return \"%.1fYiB\" % size\n",
        "\n",
        "\n",
        "\n",
        "human_readable_size(memsize)\n"
      ],
      "metadata": {
        "colab": {
          "base_uri": "https://localhost:8080/",
          "height": 36
        },
        "id": "JZeI3AJ_uL1Y",
        "outputId": "400ce265-c537-492a-d7b7-ee7ad504c75f"
      },
      "execution_count": null,
      "outputs": [
        {
          "output_type": "execute_result",
          "data": {
            "text/plain": [
              "'392.9MiB'"
            ],
            "application/vnd.google.colaboratory.intrinsic+json": {
              "type": "string"
            }
          },
          "metadata": {},
          "execution_count": 48
        }
      ]
    },
    {
      "cell_type": "code",
      "source": [],
      "metadata": {
        "id": "oeC4KlQduqzd"
      },
      "execution_count": null,
      "outputs": []
    }
  ]
}